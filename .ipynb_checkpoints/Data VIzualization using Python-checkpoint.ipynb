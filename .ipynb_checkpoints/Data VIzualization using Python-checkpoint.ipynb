{
 "cells": [
  {
   "cell_type": "code",
   "execution_count": 7,
   "metadata": {},
   "outputs": [],
   "source": [
    "import pandas as pd\n",
    "\n",
    "from matplotlib import pyplot as plt"
   ]
  },
  {
   "cell_type": "code",
   "execution_count": 2,
   "metadata": {},
   "outputs": [],
   "source": [
    "x=[1,2,3]\n",
    "y=[1,4,9]"
   ]
  },
  {
   "cell_type": "code",
   "execution_count": 5,
   "metadata": {},
   "outputs": [
    {
     "data": {
      "text/plain": [
       "[<matplotlib.lines.Line2D at 0x11661a690>]"
      ]
     },
     "execution_count": 5,
     "metadata": {},
     "output_type": "execute_result"
    },
    {
     "data": {
      "image/png": "[encoded data removed]",
      "text/plain": [
       "<Figure size 432x288 with 1 Axes>"
      ]
     },
     "metadata": {
      "needs_background": "light"
     },
     "output_type": "display_data"
    }
   ],
   "source": [
    "plt.title('Test plot')\n",
    "plt.xlabel('x axis')\n",
    "plt.ylabel('y axis')\n",
    "plt.plot(x,y)"
   ]
  },
  {
   "cell_type": "code",
   "execution_count": 8,
   "metadata": {},
   "outputs": [],
   "source": [
    "coursera_data = pd.read_csv('coursera-course-data.csv')"
   ]
  },
  {
   "cell_type": "code",
   "execution_count": 7,
   "metadata": {},
   "outputs": [
    {
     "data": {
      "text/html": [
       "<div>\n",
       "<style scoped>\n",
       "    .dataframe tbody tr th:only-of-type {\n",
       "        vertical-align: middle;\n",
       "    }\n",
       "\n",
       "    .dataframe tbody tr th {\n",
       "        vertical-align: top;\n",
       "    }\n",
       "\n",
       "    .dataframe thead th {\n",
       "        text-align: right;\n",
       "    }\n",
       "</style>\n",
       "<table border=\"1\" class=\"dataframe\">\n",
       "  <thead>\n",
       "    <tr style=\"text-align: right;\">\n",
       "      <th></th>\n",
       "      <th>Unnamed: 0</th>\n",
       "      <th>Name</th>\n",
       "      <th>Link</th>\n",
       "    </tr>\n",
       "  </thead>\n",
       "  <tbody>\n",
       "    <tr>\n",
       "      <td>0</td>\n",
       "      <td>0</td>\n",
       "      <td>\"Espace mondial\" الرؤية الفرنسية للدراسات العا...</td>\n",
       "      <td>https://coursera.org/learn/espace-mondial-ar</td>\n",
       "    </tr>\n",
       "    <tr>\n",
       "      <td>1</td>\n",
       "      <td>1</td>\n",
       "      <td>\"Making\" Progress Teach-Out (Emory University)</td>\n",
       "      <td>https://coursera.org/learn/makingprogress</td>\n",
       "    </tr>\n",
       "    <tr>\n",
       "      <td>2</td>\n",
       "      <td>2</td>\n",
       "      <td>(Business Writing) الكتابة في مجال الأعمال (Un...</td>\n",
       "      <td>https://coursera.org/learn/writing-for-busines...</td>\n",
       "    </tr>\n",
       "    <tr>\n",
       "      <td>3</td>\n",
       "      <td>3</td>\n",
       "      <td>(Giving Helpful Feedback) إعطاء الملاحظات المف...</td>\n",
       "      <td>https://coursera.org/learn/feedback-ar</td>\n",
       "    </tr>\n",
       "    <tr>\n",
       "      <td>4</td>\n",
       "      <td>4</td>\n",
       "      <td>(Successful Presentation) العرض التقديمي الناج...</td>\n",
       "      <td>https://coursera.org/learn/presentation-skills-ar</td>\n",
       "    </tr>\n",
       "    <tr>\n",
       "      <td>...</td>\n",
       "      <td>...</td>\n",
       "      <td>...</td>\n",
       "      <td>...</td>\n",
       "    </tr>\n",
       "    <tr>\n",
       "      <td>3845</td>\n",
       "      <td>3845</td>\n",
       "      <td>剪辑：像编剧一样剪辑 (Fudan University)</td>\n",
       "      <td>https://coursera.org/learn/jian-ji</td>\n",
       "    </tr>\n",
       "    <tr>\n",
       "      <td>3846</td>\n",
       "      <td>3846</td>\n",
       "      <td>医学统计学与SPSS软件（基础篇） (Peking University)</td>\n",
       "      <td>https://coursera.org/learn/spss-ruanjian</td>\n",
       "    </tr>\n",
       "    <tr>\n",
       "      <td>3847</td>\n",
       "      <td>3847</td>\n",
       "      <td>口腔种植学 （Implant Dentistry） (The University of H...</td>\n",
       "      <td>https://coursera.org/learn/implant-dentistry-c...</td>\n",
       "    </tr>\n",
       "    <tr>\n",
       "      <td>3848</td>\n",
       "      <td>3848</td>\n",
       "      <td>史記 (Shi Ji) (National Taiwan University)</td>\n",
       "      <td>https://coursera.org/learn/shiji</td>\n",
       "    </tr>\n",
       "    <tr>\n",
       "      <td>3849</td>\n",
       "      <td>3849</td>\n",
       "      <td>品读道家的智慧 (Xi'an Jiaotong University)</td>\n",
       "      <td>https://coursera.org/learn/daojiao</td>\n",
       "    </tr>\n",
       "  </tbody>\n",
       "</table>\n",
       "<p>3850 rows × 3 columns</p>\n",
       "</div>"
      ],
      "text/plain": [
       "      Unnamed: 0                                               Name  \\\n",
       "0              0  \"Espace mondial\" الرؤية الفرنسية للدراسات العا...   \n",
       "1              1     \"Making\" Progress Teach-Out (Emory University)   \n",
       "2              2  (Business Writing) الكتابة في مجال الأعمال (Un...   \n",
       "3              3  (Giving Helpful Feedback) إعطاء الملاحظات المف...   \n",
       "4              4  (Successful Presentation) العرض التقديمي الناج...   \n",
       "...          ...                                                ...   \n",
       "3845        3845                      剪辑：像编剧一样剪辑 (Fudan University)   \n",
       "3846        3846              医学统计学与SPSS软件（基础篇） (Peking University)   \n",
       "3847        3847  口腔种植学 （Implant Dentistry） (The University of H...   \n",
       "3848        3848           史記 (Shi Ji) (National Taiwan University)   \n",
       "3849        3849                品读道家的智慧 (Xi'an Jiaotong University)   \n",
       "\n",
       "                                                   Link  \n",
       "0          https://coursera.org/learn/espace-mondial-ar  \n",
       "1             https://coursera.org/learn/makingprogress  \n",
       "2     https://coursera.org/learn/writing-for-busines...  \n",
       "3                https://coursera.org/learn/feedback-ar  \n",
       "4     https://coursera.org/learn/presentation-skills-ar  \n",
       "...                                                 ...  \n",
       "3845                 https://coursera.org/learn/jian-ji  \n",
       "3846           https://coursera.org/learn/spss-ruanjian  \n",
       "3847  https://coursera.org/learn/implant-dentistry-c...  \n",
       "3848                   https://coursera.org/learn/shiji  \n",
       "3849                 https://coursera.org/learn/daojiao  \n",
       "\n",
       "[3850 rows x 3 columns]"
      ]
     },
     "execution_count": 7,
     "metadata": {},
     "output_type": "execute_result"
    }
   ],
   "source": [
    "coursera_data"
   ]
  },
  {
   "cell_type": "code",
   "execution_count": 6,
   "metadata": {},
   "outputs": [
    {
     "ename": "NameError",
     "evalue": "name 'pd' is not defined",
     "output_type": "error",
     "traceback": [
      "\u001b[0;31m---------------------------------------------------------------------------\u001b[0m",
      "\u001b[0;31mNameError\u001b[0m                                 Traceback (most recent call last)",
      "\u001b[0;32m<ipython-input-6-7b82741930f3>\u001b[0m in \u001b[0;36m<module>\u001b[0;34m\u001b[0m\n\u001b[0;32m----> 1\u001b[0;31m \u001b[0mcoursera_data2\u001b[0m \u001b[0;34m=\u001b[0m \u001b[0mpd\u001b[0m\u001b[0;34m.\u001b[0m\u001b[0mread_csv\u001b[0m\u001b[0;34m(\u001b[0m\u001b[0;34m'coursera-course-detail-data.csv'\u001b[0m\u001b[0;34m)\u001b[0m\u001b[0;34m\u001b[0m\u001b[0;34m\u001b[0m\u001b[0m\n\u001b[0m",
      "\u001b[0;31mNameError\u001b[0m: name 'pd' is not defined"
     ]
    }
   ],
   "source": [
    "coursera_data2 = pd.read_csv('coursera-course-detail-data.csv')"
   ]
  },
  {
   "cell_type": "code",
   "execution_count": 9,
   "metadata": {
    "scrolled": true
   },
   "outputs": [
    {
     "data": {
      "text/html": [
       "<div>\n",
       "<style scoped>\n",
       "    .dataframe tbody tr th:only-of-type {\n",
       "        vertical-align: middle;\n",
       "    }\n",
       "\n",
       "    .dataframe tbody tr th {\n",
       "        vertical-align: top;\n",
       "    }\n",
       "\n",
       "    .dataframe thead th {\n",
       "        text-align: right;\n",
       "    }\n",
       "</style>\n",
       "<table border=\"1\" class=\"dataframe\">\n",
       "  <thead>\n",
       "    <tr style=\"text-align: right;\">\n",
       "      <th></th>\n",
       "      <th>Unnamed: 0</th>\n",
       "      <th>Name</th>\n",
       "      <th>Url</th>\n",
       "      <th>Rating</th>\n",
       "      <th>Difficulty</th>\n",
       "      <th>Tags</th>\n",
       "    </tr>\n",
       "  </thead>\n",
       "  <tbody>\n",
       "    <tr>\n",
       "      <td>0</td>\n",
       "      <td>0</td>\n",
       "      <td>\"Making\" Progress Teach-Out</td>\n",
       "      <td>https://coursera.org/learn/makingprogress</td>\n",
       "      <td>None</td>\n",
       "      <td>Beginner Level</td>\n",
       "      <td>['Social Sciences', 'Governance and Society']</td>\n",
       "    </tr>\n",
       "    <tr>\n",
       "      <td>1</td>\n",
       "      <td>1</td>\n",
       "      <td>(Business Writing) الكتابة في مجال الأعمال</td>\n",
       "      <td>https://coursera.org/learn/writing-for-busines...</td>\n",
       "      <td>None</td>\n",
       "      <td>Beginner Level</td>\n",
       "      <td>['Business', 'Business Essentials']</td>\n",
       "    </tr>\n",
       "    <tr>\n",
       "      <td>2</td>\n",
       "      <td>2</td>\n",
       "      <td>(Giving Helpful Feedback) إعطاء الملاحظات المفيدة</td>\n",
       "      <td>https://coursera.org/learn/feedback-ar</td>\n",
       "      <td>4.8</td>\n",
       "      <td>None</td>\n",
       "      <td>['Business', 'Business Essentials']</td>\n",
       "    </tr>\n",
       "    <tr>\n",
       "      <td>3</td>\n",
       "      <td>3</td>\n",
       "      <td>(Successful Presentation) العرض التقديمي الناجح</td>\n",
       "      <td>https://coursera.org/learn/presentation-skills-ar</td>\n",
       "      <td>4.9</td>\n",
       "      <td>Beginner Level</td>\n",
       "      <td>['Business', 'Business Essentials']</td>\n",
       "    </tr>\n",
       "    <tr>\n",
       "      <td>4</td>\n",
       "      <td>4</td>\n",
       "      <td>.Net平台下的软件开发技术毕业项目</td>\n",
       "      <td>https://coursera.org/learn/net-ruanjian-kaifa-...</td>\n",
       "      <td>None</td>\n",
       "      <td>None</td>\n",
       "      <td>['Computer Science', 'Software Development']</td>\n",
       "    </tr>\n",
       "    <tr>\n",
       "      <td>...</td>\n",
       "      <td>...</td>\n",
       "      <td>...</td>\n",
       "      <td>...</td>\n",
       "      <td>...</td>\n",
       "      <td>...</td>\n",
       "      <td>...</td>\n",
       "    </tr>\n",
       "    <tr>\n",
       "      <td>3845</td>\n",
       "      <td>3845</td>\n",
       "      <td>None</td>\n",
       "      <td>https://coursera.org/learn/building-resilient-...</td>\n",
       "      <td>None</td>\n",
       "      <td>None</td>\n",
       "      <td>None</td>\n",
       "    </tr>\n",
       "    <tr>\n",
       "      <td>3846</td>\n",
       "      <td>3846</td>\n",
       "      <td>Drugs and the Brain</td>\n",
       "      <td>https://coursera.org/learn/drugs-and-brain</td>\n",
       "      <td>None</td>\n",
       "      <td>None</td>\n",
       "      <td>None</td>\n",
       "    </tr>\n",
       "    <tr>\n",
       "      <td>3847</td>\n",
       "      <td>3847</td>\n",
       "      <td>None</td>\n",
       "      <td>https://coursera.org/learn/serverless-machine-...</td>\n",
       "      <td>None</td>\n",
       "      <td>None</td>\n",
       "      <td>None</td>\n",
       "    </tr>\n",
       "    <tr>\n",
       "      <td>3848</td>\n",
       "      <td>3848</td>\n",
       "      <td>None</td>\n",
       "      <td>https://coursera.org/learn/serverless-data-ana...</td>\n",
       "      <td>None</td>\n",
       "      <td>None</td>\n",
       "      <td>None</td>\n",
       "    </tr>\n",
       "    <tr>\n",
       "      <td>3849</td>\n",
       "      <td>3849</td>\n",
       "      <td>None</td>\n",
       "      <td>https://coursera.org/learn/augmented-reality-v...</td>\n",
       "      <td>None</td>\n",
       "      <td>None</td>\n",
       "      <td>None</td>\n",
       "    </tr>\n",
       "  </tbody>\n",
       "</table>\n",
       "<p>3850 rows × 6 columns</p>\n",
       "</div>"
      ],
      "text/plain": [
       "      Unnamed: 0                                               Name  \\\n",
       "0              0                        \"Making\" Progress Teach-Out   \n",
       "1              1         (Business Writing) الكتابة في مجال الأعمال   \n",
       "2              2  (Giving Helpful Feedback) إعطاء الملاحظات المفيدة   \n",
       "3              3    (Successful Presentation) العرض التقديمي الناجح   \n",
       "4              4                                 .Net平台下的软件开发技术毕业项目   \n",
       "...          ...                                                ...   \n",
       "3845        3845                                               None   \n",
       "3846        3846                                Drugs and the Brain   \n",
       "3847        3847                                               None   \n",
       "3848        3848                                               None   \n",
       "3849        3849                                               None   \n",
       "\n",
       "                                                    Url Rating  \\\n",
       "0             https://coursera.org/learn/makingprogress   None   \n",
       "1     https://coursera.org/learn/writing-for-busines...   None   \n",
       "2                https://coursera.org/learn/feedback-ar    4.8   \n",
       "3     https://coursera.org/learn/presentation-skills-ar    4.9   \n",
       "4     https://coursera.org/learn/net-ruanjian-kaifa-...   None   \n",
       "...                                                 ...    ...   \n",
       "3845  https://coursera.org/learn/building-resilient-...   None   \n",
       "3846         https://coursera.org/learn/drugs-and-brain   None   \n",
       "3847  https://coursera.org/learn/serverless-machine-...   None   \n",
       "3848  https://coursera.org/learn/serverless-data-ana...   None   \n",
       "3849  https://coursera.org/learn/augmented-reality-v...   None   \n",
       "\n",
       "          Difficulty                                           Tags  \n",
       "0     Beginner Level  ['Social Sciences', 'Governance and Society']  \n",
       "1     Beginner Level            ['Business', 'Business Essentials']  \n",
       "2               None            ['Business', 'Business Essentials']  \n",
       "3     Beginner Level            ['Business', 'Business Essentials']  \n",
       "4               None   ['Computer Science', 'Software Development']  \n",
       "...              ...                                            ...  \n",
       "3845            None                                           None  \n",
       "3846            None                                           None  \n",
       "3847            None                                           None  \n",
       "3848            None                                           None  \n",
       "3849            None                                           None  \n",
       "\n",
       "[3850 rows x 6 columns]"
      ]
     },
     "execution_count": 9,
     "metadata": {},
     "output_type": "execute_result"
    }
   ],
   "source": [
    "coursera_data2"
   ]
  },
  {
   "cell_type": "code",
   "execution_count": null,
   "metadata": {},
   "outputs": [],
   "source": []
  },
  {
   "cell_type": "code",
   "execution_count": null,
   "metadata": {},
   "outputs": [],
   "source": [
    "import XGBoostclassifier and accuracy\n",
    "from xgboost import XGBClassifier\n",
    "from sklearn.metrics import accuracy_score\n",
    "\n",
    "#instantiate model and train\n",
    "model = XGBClassifier(learning_rate = 0.05, n_estimators=300, max_depth=5)\n",
    "model.fit(X_train, y_train)\n",
    "\n",
    "# make predictions for test set\n",
    "y_pred = model.predict(X_test)\n",
    "predictions = [round(value) for value in y_pred]\n",
    "\n",
    "accuracy = accuracy_score(y_test, predictions)\n",
    "print(\"Accuracy: %.2f%%\" % (accuracy * 100.0))\n"
   ]
  },
  {
   "cell_type": "code",
   "execution_count": 5,
   "metadata": {},
   "outputs": [
    {
     "ename": "NameError",
     "evalue": "name 'coursera_data2' is not defined",
     "output_type": "error",
     "traceback": [
      "\u001b[0;31m---------------------------------------------------------------------------\u001b[0m",
      "\u001b[0;31mNameError\u001b[0m                                 Traceback (most recent call last)",
      "\u001b[0;32m<ipython-input-5-674be7eac481>\u001b[0m in \u001b[0;36m<module>\u001b[0;34m\u001b[0m\n\u001b[0;32m----> 1\u001b[0;31m \u001b[0mcoursera_data2\u001b[0m\u001b[0;34m\u001b[0m\u001b[0;34m\u001b[0m\u001b[0m\n\u001b[0m",
      "\u001b[0;31mNameError\u001b[0m: name 'coursera_data2' is not defined"
     ]
    }
   ],
   "source": [
    "coursera_data2"
   ]
  },
  {
   "cell_type": "code",
   "execution_count": null,
   "metadata": {},
   "outputs": [],
   "source": []
  }
 ],
 "metadata": {
  "kernelspec": {
   "display_name": "Python 3",
   "language": "python",
   "name": "python3"
  },
  "language_info": {
   "codemirror_mode": {
    "name": "ipython",
    "version": 3
   },
   "file_extension": ".py",
   "mimetype": "text/x-python",
   "name": "python",
   "nbconvert_exporter": "python",
   "pygments_lexer": "ipython3",
   "version": "3.7.4"
  }
 },
 "nbformat": 4,
 "nbformat_minor": 2
}
