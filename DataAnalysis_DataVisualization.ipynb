{
 "cells": [
  {
   "cell_type": "code",
   "execution_count": 1,
   "metadata": {},
   "outputs": [],
   "source": [
    "import numpy as np\n",
    "import pandas as pd\n",
    "import matplotlib.pyplot as plt"
   ]
  },
  {
   "cell_type": "code",
   "execution_count": 2,
   "metadata": {},
   "outputs": [
    {
     "name": "stdout",
     "output_type": "stream",
     "text": [
      "      Unnamed: 0                                               Name  \\\n",
      "0              0                        \"Making\" Progress Teach-Out   \n",
      "1              1         (Business Writing) الكتابة في مجال الأعمال   \n",
      "2              2  (Giving Helpful Feedback) إعطاء الملاحظات المفيدة   \n",
      "3              3    (Successful Presentation) العرض التقديمي الناجح   \n",
      "4              4                                 .Net平台下的软件开发技术毕业项目   \n",
      "...          ...                                                ...   \n",
      "3845        3845                                               None   \n",
      "3846        3846                                Drugs and the Brain   \n",
      "3847        3847                                               None   \n",
      "3848        3848                                               None   \n",
      "3849        3849                                               None   \n",
      "\n",
      "                                                    Url Rating  \\\n",
      "0             https://coursera.org/learn/makingprogress   None   \n",
      "1     https://coursera.org/learn/writing-for-busines...   None   \n",
      "2                https://coursera.org/learn/feedback-ar    4.8   \n",
      "3     https://coursera.org/learn/presentation-skills-ar    4.9   \n",
      "4     https://coursera.org/learn/net-ruanjian-kaifa-...   None   \n",
      "...                                                 ...    ...   \n",
      "3845  https://coursera.org/learn/building-resilient-...   None   \n",
      "3846         https://coursera.org/learn/drugs-and-brain   None   \n",
      "3847  https://coursera.org/learn/serverless-machine-...   None   \n",
      "3848  https://coursera.org/learn/serverless-data-ana...   None   \n",
      "3849  https://coursera.org/learn/augmented-reality-v...   None   \n",
      "\n",
      "          Difficulty                                           Tags  \n",
      "0     Beginner Level  ['Social Sciences', 'Governance and Society']  \n",
      "1     Beginner Level            ['Business', 'Business Essentials']  \n",
      "2               None            ['Business', 'Business Essentials']  \n",
      "3     Beginner Level            ['Business', 'Business Essentials']  \n",
      "4               None   ['Computer Science', 'Software Development']  \n",
      "...              ...                                            ...  \n",
      "3845            None                                           None  \n",
      "3846            None                                           None  \n",
      "3847            None                                           None  \n",
      "3848            None                                           None  \n",
      "3849            None                                           None  \n",
      "\n",
      "[3850 rows x 6 columns]\n"
     ]
    }
   ],
   "source": [
    "df = pd.read_csv('coursera-course-detail-data.csv')\n",
    "print(df)"
   ]
  },
  {
   "cell_type": "code",
   "execution_count": 18,
   "metadata": {},
   "outputs": [],
   "source": [
    "df.replace(\"None\",\"NaN\",inplace=True)"
   ]
  },
  {
   "cell_type": "code",
   "execution_count": 19,
   "metadata": {},
   "outputs": [
    {
     "data": {
      "text/html": [
       "<div>\n",
       "<style scoped>\n",
       "    .dataframe tbody tr th:only-of-type {\n",
       "        vertical-align: middle;\n",
       "    }\n",
       "\n",
       "    .dataframe tbody tr th {\n",
       "        vertical-align: top;\n",
       "    }\n",
       "\n",
       "    .dataframe thead th {\n",
       "        text-align: right;\n",
       "    }\n",
       "</style>\n",
       "<table border=\"1\" class=\"dataframe\">\n",
       "  <thead>\n",
       "    <tr style=\"text-align: right;\">\n",
       "      <th></th>\n",
       "      <th>Unnamed: 0</th>\n",
       "      <th>Name</th>\n",
       "      <th>Url</th>\n",
       "      <th>Rating</th>\n",
       "      <th>Difficulty</th>\n",
       "      <th>Tags</th>\n",
       "    </tr>\n",
       "  </thead>\n",
       "  <tbody>\n",
       "    <tr>\n",
       "      <td>0</td>\n",
       "      <td>0</td>\n",
       "      <td>\"Making\" Progress Teach-Out</td>\n",
       "      <td>https://coursera.org/learn/makingprogress</td>\n",
       "      <td>NaN</td>\n",
       "      <td>Beginner Level</td>\n",
       "      <td>['Social Sciences', 'Governance and Society']</td>\n",
       "    </tr>\n",
       "    <tr>\n",
       "      <td>1</td>\n",
       "      <td>1</td>\n",
       "      <td>(Business Writing) الكتابة في مجال الأعمال</td>\n",
       "      <td>https://coursera.org/learn/writing-for-busines...</td>\n",
       "      <td>NaN</td>\n",
       "      <td>Beginner Level</td>\n",
       "      <td>['Business', 'Business Essentials']</td>\n",
       "    </tr>\n",
       "    <tr>\n",
       "      <td>2</td>\n",
       "      <td>2</td>\n",
       "      <td>(Giving Helpful Feedback) إعطاء الملاحظات المفيدة</td>\n",
       "      <td>https://coursera.org/learn/feedback-ar</td>\n",
       "      <td>4.8</td>\n",
       "      <td>NaN</td>\n",
       "      <td>['Business', 'Business Essentials']</td>\n",
       "    </tr>\n",
       "    <tr>\n",
       "      <td>3</td>\n",
       "      <td>3</td>\n",
       "      <td>(Successful Presentation) العرض التقديمي الناجح</td>\n",
       "      <td>https://coursera.org/learn/presentation-skills-ar</td>\n",
       "      <td>4.9</td>\n",
       "      <td>Beginner Level</td>\n",
       "      <td>['Business', 'Business Essentials']</td>\n",
       "    </tr>\n",
       "    <tr>\n",
       "      <td>4</td>\n",
       "      <td>4</td>\n",
       "      <td>.Net平台下的软件开发技术毕业项目</td>\n",
       "      <td>https://coursera.org/learn/net-ruanjian-kaifa-...</td>\n",
       "      <td>NaN</td>\n",
       "      <td>NaN</td>\n",
       "      <td>['Computer Science', 'Software Development']</td>\n",
       "    </tr>\n",
       "    <tr>\n",
       "      <td>...</td>\n",
       "      <td>...</td>\n",
       "      <td>...</td>\n",
       "      <td>...</td>\n",
       "      <td>...</td>\n",
       "      <td>...</td>\n",
       "      <td>...</td>\n",
       "    </tr>\n",
       "    <tr>\n",
       "      <td>3845</td>\n",
       "      <td>3845</td>\n",
       "      <td>NaN</td>\n",
       "      <td>https://coursera.org/learn/building-resilient-...</td>\n",
       "      <td>NaN</td>\n",
       "      <td>NaN</td>\n",
       "      <td>NaN</td>\n",
       "    </tr>\n",
       "    <tr>\n",
       "      <td>3846</td>\n",
       "      <td>3846</td>\n",
       "      <td>Drugs and the Brain</td>\n",
       "      <td>https://coursera.org/learn/drugs-and-brain</td>\n",
       "      <td>NaN</td>\n",
       "      <td>NaN</td>\n",
       "      <td>NaN</td>\n",
       "    </tr>\n",
       "    <tr>\n",
       "      <td>3847</td>\n",
       "      <td>3847</td>\n",
       "      <td>NaN</td>\n",
       "      <td>https://coursera.org/learn/serverless-machine-...</td>\n",
       "      <td>NaN</td>\n",
       "      <td>NaN</td>\n",
       "      <td>NaN</td>\n",
       "    </tr>\n",
       "    <tr>\n",
       "      <td>3848</td>\n",
       "      <td>3848</td>\n",
       "      <td>NaN</td>\n",
       "      <td>https://coursera.org/learn/serverless-data-ana...</td>\n",
       "      <td>NaN</td>\n",
       "      <td>NaN</td>\n",
       "      <td>NaN</td>\n",
       "    </tr>\n",
       "    <tr>\n",
       "      <td>3849</td>\n",
       "      <td>3849</td>\n",
       "      <td>NaN</td>\n",
       "      <td>https://coursera.org/learn/augmented-reality-v...</td>\n",
       "      <td>NaN</td>\n",
       "      <td>NaN</td>\n",
       "      <td>NaN</td>\n",
       "    </tr>\n",
       "  </tbody>\n",
       "</table>\n",
       "<p>3850 rows × 6 columns</p>\n",
       "</div>"
      ],
      "text/plain": [
       "      Unnamed: 0                                               Name  \\\n",
       "0              0                        \"Making\" Progress Teach-Out   \n",
       "1              1         (Business Writing) الكتابة في مجال الأعمال   \n",
       "2              2  (Giving Helpful Feedback) إعطاء الملاحظات المفيدة   \n",
       "3              3    (Successful Presentation) العرض التقديمي الناجح   \n",
       "4              4                                 .Net平台下的软件开发技术毕业项目   \n",
       "...          ...                                                ...   \n",
       "3845        3845                                                NaN   \n",
       "3846        3846                                Drugs and the Brain   \n",
       "3847        3847                                                NaN   \n",
       "3848        3848                                                NaN   \n",
       "3849        3849                                                NaN   \n",
       "\n",
       "                                                    Url Rating  \\\n",
       "0             https://coursera.org/learn/makingprogress    NaN   \n",
       "1     https://coursera.org/learn/writing-for-busines...    NaN   \n",
       "2                https://coursera.org/learn/feedback-ar    4.8   \n",
       "3     https://coursera.org/learn/presentation-skills-ar    4.9   \n",
       "4     https://coursera.org/learn/net-ruanjian-kaifa-...    NaN   \n",
       "...                                                 ...    ...   \n",
       "3845  https://coursera.org/learn/building-resilient-...    NaN   \n",
       "3846         https://coursera.org/learn/drugs-and-brain    NaN   \n",
       "3847  https://coursera.org/learn/serverless-machine-...    NaN   \n",
       "3848  https://coursera.org/learn/serverless-data-ana...    NaN   \n",
       "3849  https://coursera.org/learn/augmented-reality-v...    NaN   \n",
       "\n",
       "          Difficulty                                           Tags  \n",
       "0     Beginner Level  ['Social Sciences', 'Governance and Society']  \n",
       "1     Beginner Level            ['Business', 'Business Essentials']  \n",
       "2                NaN            ['Business', 'Business Essentials']  \n",
       "3     Beginner Level            ['Business', 'Business Essentials']  \n",
       "4                NaN   ['Computer Science', 'Software Development']  \n",
       "...              ...                                            ...  \n",
       "3845             NaN                                            NaN  \n",
       "3846             NaN                                            NaN  \n",
       "3847             NaN                                            NaN  \n",
       "3848             NaN                                            NaN  \n",
       "3849             NaN                                            NaN  \n",
       "\n",
       "[3850 rows x 6 columns]"
      ]
     },
     "execution_count": 19,
     "metadata": {},
     "output_type": "execute_result"
    }
   ],
   "source": [
    "df"
   ]
  },
  {
   "cell_type": "code",
   "execution_count": 38,
   "metadata": {},
   "outputs": [],
   "source": [
    "sample_df = df[df['Difficulty'] == \"Beginner Level\"]\n"
   ]
  },
  {
   "cell_type": "code",
   "execution_count": 39,
   "metadata": {},
   "outputs": [
    {
     "data": {
      "text/plain": [
       "Int64Index([   0,    1,    3,    7,   12,   13,   17,   18,   19,   22,\n",
       "            ...\n",
       "            3808, 3810, 3812, 3813, 3817, 3826, 3833, 3834, 3837, 3839],\n",
       "           dtype='int64', length=1488)"
      ]
     },
     "execution_count": 39,
     "metadata": {},
     "output_type": "execute_result"
    }
   ],
   "source": [
    "sample_df.index"
   ]
  },
  {
   "cell_type": "code",
   "execution_count": 40,
   "metadata": {},
   "outputs": [
    {
     "data": {
      "text/plain": [
       "0         0\n",
       "1         0\n",
       "3       4.9\n",
       "7       4.3\n",
       "12      4.8\n",
       "       ... \n",
       "3826    4.8\n",
       "3833    4.7\n",
       "3834    4.2\n",
       "3837    4.5\n",
       "3839    4.9\n",
       "Name: Rating, Length: 1488, dtype: object"
      ]
     },
     "execution_count": 40,
     "metadata": {},
     "output_type": "execute_result"
    }
   ],
   "source": [
    "sample_df['Rating']\n"
   ]
  },
  {
   "cell_type": "code",
   "execution_count": 34,
   "metadata": {},
   "outputs": [],
   "source": [
    "df.replace(\"NaN\",\"0\",inplace=True)"
   ]
  },
  {
   "cell_type": "code",
   "execution_count": 35,
   "metadata": {},
   "outputs": [
    {
     "data": {
      "text/html": [
       "<div>\n",
       "<style scoped>\n",
       "    .dataframe tbody tr th:only-of-type {\n",
       "        vertical-align: middle;\n",
       "    }\n",
       "\n",
       "    .dataframe tbody tr th {\n",
       "        vertical-align: top;\n",
       "    }\n",
       "\n",
       "    .dataframe thead th {\n",
       "        text-align: right;\n",
       "    }\n",
       "</style>\n",
       "<table border=\"1\" class=\"dataframe\">\n",
       "  <thead>\n",
       "    <tr style=\"text-align: right;\">\n",
       "      <th></th>\n",
       "      <th>Unnamed: 0</th>\n",
       "      <th>Name</th>\n",
       "      <th>Url</th>\n",
       "      <th>Rating</th>\n",
       "      <th>Difficulty</th>\n",
       "      <th>Tags</th>\n",
       "    </tr>\n",
       "  </thead>\n",
       "  <tbody>\n",
       "    <tr>\n",
       "      <td>0</td>\n",
       "      <td>0</td>\n",
       "      <td>\"Making\" Progress Teach-Out</td>\n",
       "      <td>https://coursera.org/learn/makingprogress</td>\n",
       "      <td>0</td>\n",
       "      <td>Beginner Level</td>\n",
       "      <td>['Social Sciences', 'Governance and Society']</td>\n",
       "    </tr>\n",
       "    <tr>\n",
       "      <td>1</td>\n",
       "      <td>1</td>\n",
       "      <td>(Business Writing) الكتابة في مجال الأعمال</td>\n",
       "      <td>https://coursera.org/learn/writing-for-busines...</td>\n",
       "      <td>0</td>\n",
       "      <td>Beginner Level</td>\n",
       "      <td>['Business', 'Business Essentials']</td>\n",
       "    </tr>\n",
       "    <tr>\n",
       "      <td>2</td>\n",
       "      <td>2</td>\n",
       "      <td>(Giving Helpful Feedback) إعطاء الملاحظات المفيدة</td>\n",
       "      <td>https://coursera.org/learn/feedback-ar</td>\n",
       "      <td>4.8</td>\n",
       "      <td>0</td>\n",
       "      <td>['Business', 'Business Essentials']</td>\n",
       "    </tr>\n",
       "    <tr>\n",
       "      <td>3</td>\n",
       "      <td>3</td>\n",
       "      <td>(Successful Presentation) العرض التقديمي الناجح</td>\n",
       "      <td>https://coursera.org/learn/presentation-skills-ar</td>\n",
       "      <td>4.9</td>\n",
       "      <td>Beginner Level</td>\n",
       "      <td>['Business', 'Business Essentials']</td>\n",
       "    </tr>\n",
       "    <tr>\n",
       "      <td>4</td>\n",
       "      <td>4</td>\n",
       "      <td>.Net平台下的软件开发技术毕业项目</td>\n",
       "      <td>https://coursera.org/learn/net-ruanjian-kaifa-...</td>\n",
       "      <td>0</td>\n",
       "      <td>0</td>\n",
       "      <td>['Computer Science', 'Software Development']</td>\n",
       "    </tr>\n",
       "    <tr>\n",
       "      <td>...</td>\n",
       "      <td>...</td>\n",
       "      <td>...</td>\n",
       "      <td>...</td>\n",
       "      <td>...</td>\n",
       "      <td>...</td>\n",
       "      <td>...</td>\n",
       "    </tr>\n",
       "    <tr>\n",
       "      <td>3845</td>\n",
       "      <td>3845</td>\n",
       "      <td>0</td>\n",
       "      <td>https://coursera.org/learn/building-resilient-...</td>\n",
       "      <td>0</td>\n",
       "      <td>0</td>\n",
       "      <td>0</td>\n",
       "    </tr>\n",
       "    <tr>\n",
       "      <td>3846</td>\n",
       "      <td>3846</td>\n",
       "      <td>Drugs and the Brain</td>\n",
       "      <td>https://coursera.org/learn/drugs-and-brain</td>\n",
       "      <td>0</td>\n",
       "      <td>0</td>\n",
       "      <td>0</td>\n",
       "    </tr>\n",
       "    <tr>\n",
       "      <td>3847</td>\n",
       "      <td>3847</td>\n",
       "      <td>0</td>\n",
       "      <td>https://coursera.org/learn/serverless-machine-...</td>\n",
       "      <td>0</td>\n",
       "      <td>0</td>\n",
       "      <td>0</td>\n",
       "    </tr>\n",
       "    <tr>\n",
       "      <td>3848</td>\n",
       "      <td>3848</td>\n",
       "      <td>0</td>\n",
       "      <td>https://coursera.org/learn/serverless-data-ana...</td>\n",
       "      <td>0</td>\n",
       "      <td>0</td>\n",
       "      <td>0</td>\n",
       "    </tr>\n",
       "    <tr>\n",
       "      <td>3849</td>\n",
       "      <td>3849</td>\n",
       "      <td>0</td>\n",
       "      <td>https://coursera.org/learn/augmented-reality-v...</td>\n",
       "      <td>0</td>\n",
       "      <td>0</td>\n",
       "      <td>0</td>\n",
       "    </tr>\n",
       "  </tbody>\n",
       "</table>\n",
       "<p>3850 rows × 6 columns</p>\n",
       "</div>"
      ],
      "text/plain": [
       "      Unnamed: 0                                               Name  \\\n",
       "0              0                        \"Making\" Progress Teach-Out   \n",
       "1              1         (Business Writing) الكتابة في مجال الأعمال   \n",
       "2              2  (Giving Helpful Feedback) إعطاء الملاحظات المفيدة   \n",
       "3              3    (Successful Presentation) العرض التقديمي الناجح   \n",
       "4              4                                 .Net平台下的软件开发技术毕业项目   \n",
       "...          ...                                                ...   \n",
       "3845        3845                                                  0   \n",
       "3846        3846                                Drugs and the Brain   \n",
       "3847        3847                                                  0   \n",
       "3848        3848                                                  0   \n",
       "3849        3849                                                  0   \n",
       "\n",
       "                                                    Url Rating  \\\n",
       "0             https://coursera.org/learn/makingprogress      0   \n",
       "1     https://coursera.org/learn/writing-for-busines...      0   \n",
       "2                https://coursera.org/learn/feedback-ar    4.8   \n",
       "3     https://coursera.org/learn/presentation-skills-ar    4.9   \n",
       "4     https://coursera.org/learn/net-ruanjian-kaifa-...      0   \n",
       "...                                                 ...    ...   \n",
       "3845  https://coursera.org/learn/building-resilient-...      0   \n",
       "3846         https://coursera.org/learn/drugs-and-brain      0   \n",
       "3847  https://coursera.org/learn/serverless-machine-...      0   \n",
       "3848  https://coursera.org/learn/serverless-data-ana...      0   \n",
       "3849  https://coursera.org/learn/augmented-reality-v...      0   \n",
       "\n",
       "          Difficulty                                           Tags  \n",
       "0     Beginner Level  ['Social Sciences', 'Governance and Society']  \n",
       "1     Beginner Level            ['Business', 'Business Essentials']  \n",
       "2                  0            ['Business', 'Business Essentials']  \n",
       "3     Beginner Level            ['Business', 'Business Essentials']  \n",
       "4                  0   ['Computer Science', 'Software Development']  \n",
       "...              ...                                            ...  \n",
       "3845               0                                              0  \n",
       "3846               0                                              0  \n",
       "3847               0                                              0  \n",
       "3848               0                                              0  \n",
       "3849               0                                              0  \n",
       "\n",
       "[3850 rows x 6 columns]"
      ]
     },
     "execution_count": 35,
     "metadata": {},
     "output_type": "execute_result"
    }
   ],
   "source": [
    "df"
   ]
  },
  {
   "cell_type": "code",
   "execution_count": 41,
   "metadata": {},
   "outputs": [
    {
     "data": {
      "text/plain": [
       "0         0\n",
       "1         0\n",
       "3       4.9\n",
       "7       4.3\n",
       "12      4.8\n",
       "       ... \n",
       "3826    4.8\n",
       "3833    4.7\n",
       "3834    4.2\n",
       "3837    4.5\n",
       "3839    4.9\n",
       "Name: Rating, Length: 1488, dtype: object"
      ]
     },
     "execution_count": 41,
     "metadata": {},
     "output_type": "execute_result"
    }
   ],
   "source": [
    "sample_df['Rating']"
   ]
  },
  {
   "cell_type": "code",
   "execution_count": 42,
   "metadata": {},
   "outputs": [],
   "source": [
    "sample_df.sort_index(inplace = True)"
   ]
  },
  {
   "cell_type": "code",
   "execution_count": 43,
   "metadata": {},
   "outputs": [
    {
     "data": {
      "text/plain": [
       "<matplotlib.axes._subplots.AxesSubplot at 0x117f092d0>"
      ]
     },
     "execution_count": 43,
     "metadata": {},
     "output_type": "execute_result"
    },
    {
     "data": {
      "image/png": "[encoded data removed]",
      "text/plain": [
       "<Figure size 432x288 with 1 Axes>"
      ]
     },
     "metadata": {
      "needs_background": "light"
     },
     "output_type": "display_data"
    }
   ],
   "source": [
    "sample_df['Rating'].rolling(25).mean().plot()\n"
   ]
  },
  {
   "cell_type": "code",
   "execution_count": 45,
   "metadata": {},
   "outputs": [],
   "source": [
    "import numpy as np\n",
    "import matplotlib.pyplot as plt\n",
    " \n",
    "# Make a fake dataset\n",
    "height = [3, 12, 5, 18, 45]\n",
    "bars = ('A', 'B', 'C', 'D', 'E')\n",
    "y_pos = np.arange(len(bars))\n",
    "\n"
   ]
  },
  {
   "cell_type": "code",
   "execution_count": 52,
   "metadata": {},
   "outputs": [
    {
     "data": {
      "image/png": "[encoded data removed]",
      "text/plain": [
       "<Figure size 432x288 with 1 Axes>"
      ]
     },
     "metadata": {
      "needs_background": "light"
     },
     "output_type": "display_data"
    }
   ],
   "source": [
    "plt.bar(y_pos, height, color=(0.2, 0.4, 0.8, 0.3))\n",
    "plt.xticks(y_pos, bars)\n",
    "plt.show()"
   ]
  },
  {
   "cell_type": "code",
   "execution_count": null,
   "metadata": {},
   "outputs": [],
   "source": []
  }
 ],
 "metadata": {
  "kernelspec": {
   "display_name": "Python 3",
   "language": "python",
   "name": "python3"
  },
  "language_info": {
   "codemirror_mode": {
    "name": "ipython",
    "version": 3
   },
   "file_extension": ".py",
   "mimetype": "text/x-python",
   "name": "python",
   "nbconvert_exporter": "python",
   "pygments_lexer": "ipython3",
   "version": "3.7.4"
  }
 },
 "nbformat": 4,
 "nbformat_minor": 2
}
