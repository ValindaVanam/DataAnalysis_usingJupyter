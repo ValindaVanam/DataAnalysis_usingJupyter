{
 "cells": [
  {
   "cell_type": "code",
   "execution_count": 9,
   "metadata": {},
   "outputs": [],
   "source": [
    "import numpy as np\n",
    "import pandas as pd"
   ]
  },
  {
   "cell_type": "code",
   "execution_count": 2,
   "metadata": {},
   "outputs": [],
   "source": [
    "import matplotlib.pyplot as plt\n",
    "import seaborn as sns\n",
    "import warnings"
   ]
  },
  {
   "cell_type": "code",
   "execution_count": 3,
   "metadata": {},
   "outputs": [],
   "source": [
    "warnings.filterwarnings('ignore')"
   ]
  },
  {
   "cell_type": "code",
   "execution_count": 4,
   "metadata": {},
   "outputs": [],
   "source": [
    "dataset = pd.read_csv('coursera-course-data.csv')"
   ]
  },
  {
   "cell_type": "code",
   "execution_count": 5,
   "metadata": {},
   "outputs": [
    {
     "data": {
      "text/html": [
       "<div>\n",
       "<style scoped>\n",
       "    .dataframe tbody tr th:only-of-type {\n",
       "        vertical-align: middle;\n",
       "    }\n",
       "\n",
       "    .dataframe tbody tr th {\n",
       "        vertical-align: top;\n",
       "    }\n",
       "\n",
       "    .dataframe thead th {\n",
       "        text-align: right;\n",
       "    }\n",
       "</style>\n",
       "<table border=\"1\" class=\"dataframe\">\n",
       "  <thead>\n",
       "    <tr style=\"text-align: right;\">\n",
       "      <th></th>\n",
       "      <th>Unnamed: 0</th>\n",
       "      <th>Name</th>\n",
       "      <th>Link</th>\n",
       "    </tr>\n",
       "  </thead>\n",
       "  <tbody>\n",
       "    <tr>\n",
       "      <td>0</td>\n",
       "      <td>0</td>\n",
       "      <td>\"Espace mondial\" الرؤية الفرنسية للدراسات العا...</td>\n",
       "      <td>https://coursera.org/learn/espace-mondial-ar</td>\n",
       "    </tr>\n",
       "    <tr>\n",
       "      <td>1</td>\n",
       "      <td>1</td>\n",
       "      <td>\"Making\" Progress Teach-Out (Emory University)</td>\n",
       "      <td>https://coursera.org/learn/makingprogress</td>\n",
       "    </tr>\n",
       "    <tr>\n",
       "      <td>2</td>\n",
       "      <td>2</td>\n",
       "      <td>(Business Writing) الكتابة في مجال الأعمال (Un...</td>\n",
       "      <td>https://coursera.org/learn/writing-for-busines...</td>\n",
       "    </tr>\n",
       "    <tr>\n",
       "      <td>3</td>\n",
       "      <td>3</td>\n",
       "      <td>(Giving Helpful Feedback) إعطاء الملاحظات المف...</td>\n",
       "      <td>https://coursera.org/learn/feedback-ar</td>\n",
       "    </tr>\n",
       "    <tr>\n",
       "      <td>4</td>\n",
       "      <td>4</td>\n",
       "      <td>(Successful Presentation) العرض التقديمي الناج...</td>\n",
       "      <td>https://coursera.org/learn/presentation-skills-ar</td>\n",
       "    </tr>\n",
       "    <tr>\n",
       "      <td>...</td>\n",
       "      <td>...</td>\n",
       "      <td>...</td>\n",
       "      <td>...</td>\n",
       "    </tr>\n",
       "    <tr>\n",
       "      <td>3845</td>\n",
       "      <td>3845</td>\n",
       "      <td>剪辑：像编剧一样剪辑 (Fudan University)</td>\n",
       "      <td>https://coursera.org/learn/jian-ji</td>\n",
       "    </tr>\n",
       "    <tr>\n",
       "      <td>3846</td>\n",
       "      <td>3846</td>\n",
       "      <td>医学统计学与SPSS软件（基础篇） (Peking University)</td>\n",
       "      <td>https://coursera.org/learn/spss-ruanjian</td>\n",
       "    </tr>\n",
       "    <tr>\n",
       "      <td>3847</td>\n",
       "      <td>3847</td>\n",
       "      <td>口腔种植学 （Implant Dentistry） (The University of H...</td>\n",
       "      <td>https://coursera.org/learn/implant-dentistry-c...</td>\n",
       "    </tr>\n",
       "    <tr>\n",
       "      <td>3848</td>\n",
       "      <td>3848</td>\n",
       "      <td>史記 (Shi Ji) (National Taiwan University)</td>\n",
       "      <td>https://coursera.org/learn/shiji</td>\n",
       "    </tr>\n",
       "    <tr>\n",
       "      <td>3849</td>\n",
       "      <td>3849</td>\n",
       "      <td>品读道家的智慧 (Xi'an Jiaotong University)</td>\n",
       "      <td>https://coursera.org/learn/daojiao</td>\n",
       "    </tr>\n",
       "  </tbody>\n",
       "</table>\n",
       "<p>3850 rows × 3 columns</p>\n",
       "</div>"
      ],
      "text/plain": [
       "      Unnamed: 0                                               Name  \\\n",
       "0              0  \"Espace mondial\" الرؤية الفرنسية للدراسات العا...   \n",
       "1              1     \"Making\" Progress Teach-Out (Emory University)   \n",
       "2              2  (Business Writing) الكتابة في مجال الأعمال (Un...   \n",
       "3              3  (Giving Helpful Feedback) إعطاء الملاحظات المف...   \n",
       "4              4  (Successful Presentation) العرض التقديمي الناج...   \n",
       "...          ...                                                ...   \n",
       "3845        3845                      剪辑：像编剧一样剪辑 (Fudan University)   \n",
       "3846        3846              医学统计学与SPSS软件（基础篇） (Peking University)   \n",
       "3847        3847  口腔种植学 （Implant Dentistry） (The University of H...   \n",
       "3848        3848           史記 (Shi Ji) (National Taiwan University)   \n",
       "3849        3849                品读道家的智慧 (Xi'an Jiaotong University)   \n",
       "\n",
       "                                                   Link  \n",
       "0          https://coursera.org/learn/espace-mondial-ar  \n",
       "1             https://coursera.org/learn/makingprogress  \n",
       "2     https://coursera.org/learn/writing-for-busines...  \n",
       "3                https://coursera.org/learn/feedback-ar  \n",
       "4     https://coursera.org/learn/presentation-skills-ar  \n",
       "...                                                 ...  \n",
       "3845                 https://coursera.org/learn/jian-ji  \n",
       "3846           https://coursera.org/learn/spss-ruanjian  \n",
       "3847  https://coursera.org/learn/implant-dentistry-c...  \n",
       "3848                   https://coursera.org/learn/shiji  \n",
       "3849                 https://coursera.org/learn/daojiao  \n",
       "\n",
       "[3850 rows x 3 columns]"
      ]
     },
     "execution_count": 5,
     "metadata": {},
     "output_type": "execute_result"
    }
   ],
   "source": [
    "dataset"
   ]
  },
  {
   "cell_type": "code",
   "execution_count": 6,
   "metadata": {},
   "outputs": [
    {
     "data": {
      "text/html": [
       "<div>\n",
       "<style scoped>\n",
       "    .dataframe tbody tr th:only-of-type {\n",
       "        vertical-align: middle;\n",
       "    }\n",
       "\n",
       "    .dataframe tbody tr th {\n",
       "        vertical-align: top;\n",
       "    }\n",
       "\n",
       "    .dataframe thead th {\n",
       "        text-align: right;\n",
       "    }\n",
       "</style>\n",
       "<table border=\"1\" class=\"dataframe\">\n",
       "  <thead>\n",
       "    <tr style=\"text-align: right;\">\n",
       "      <th></th>\n",
       "      <th>Unnamed: 0</th>\n",
       "      <th>Name</th>\n",
       "      <th>Link</th>\n",
       "    </tr>\n",
       "  </thead>\n",
       "  <tbody>\n",
       "    <tr>\n",
       "      <td>0</td>\n",
       "      <td>0</td>\n",
       "      <td>\"Espace mondial\" الرؤية الفرنسية للدراسات العا...</td>\n",
       "      <td>https://coursera.org/learn/espace-mondial-ar</td>\n",
       "    </tr>\n",
       "    <tr>\n",
       "      <td>1</td>\n",
       "      <td>1</td>\n",
       "      <td>\"Making\" Progress Teach-Out (Emory University)</td>\n",
       "      <td>https://coursera.org/learn/makingprogress</td>\n",
       "    </tr>\n",
       "  </tbody>\n",
       "</table>\n",
       "</div>"
      ],
      "text/plain": [
       "   Unnamed: 0                                               Name  \\\n",
       "0           0  \"Espace mondial\" الرؤية الفرنسية للدراسات العا...   \n",
       "1           1     \"Making\" Progress Teach-Out (Emory University)   \n",
       "\n",
       "                                           Link  \n",
       "0  https://coursera.org/learn/espace-mondial-ar  \n",
       "1     https://coursera.org/learn/makingprogress  "
      ]
     },
     "execution_count": 6,
     "metadata": {},
     "output_type": "execute_result"
    }
   ],
   "source": [
    "dataset.head(2)"
   ]
  },
  {
   "cell_type": "code",
   "execution_count": 7,
   "metadata": {},
   "outputs": [
    {
     "data": {
      "text/plain": [
       "(3850, 3)"
      ]
     },
     "execution_count": 7,
     "metadata": {},
     "output_type": "execute_result"
    }
   ],
   "source": [
    "dataset.shape\n"
   ]
  },
  {
   "cell_type": "code",
   "execution_count": 8,
   "metadata": {},
   "outputs": [
    {
     "data": {
      "text/plain": [
       "RangeIndex(start=0, stop=3850, step=1)"
      ]
     },
     "execution_count": 8,
     "metadata": {},
     "output_type": "execute_result"
    }
   ],
   "source": [
    "dataset.index"
   ]
  },
  {
   "cell_type": "code",
   "execution_count": 9,
   "metadata": {},
   "outputs": [
    {
     "data": {
      "text/plain": [
       "Index(['Unnamed: 0', 'Name', 'Link'], dtype='object')"
      ]
     },
     "execution_count": 9,
     "metadata": {},
     "output_type": "execute_result"
    }
   ],
   "source": [
    "dataset.columns\n"
   ]
  },
  {
   "cell_type": "code",
   "execution_count": 10,
   "metadata": {},
   "outputs": [
    {
     "data": {
      "text/plain": [
       "Unnamed: 0    0\n",
       "Name          0\n",
       "Link          0\n",
       "dtype: int64"
      ]
     },
     "execution_count": 10,
     "metadata": {},
     "output_type": "execute_result"
    }
   ],
   "source": [
    "dataset.isnull().sum()"
   ]
  },
  {
   "cell_type": "code",
   "execution_count": 12,
   "metadata": {},
   "outputs": [
    {
     "data": {
      "text/plain": [
       "Unnamed: 0    0\n",
       "Name          0\n",
       "Link          0\n",
       "dtype: int64"
      ]
     },
     "execution_count": 12,
     "metadata": {},
     "output_type": "execute_result"
    }
   ],
   "source": [
    "dataset.dropna(inplace=True)\n",
    "dataset.isnull().sum()"
   ]
  },
  {
   "cell_type": "code",
   "execution_count": 13,
   "metadata": {},
   "outputs": [],
   "source": [
    "dataset2 = pd.read_csv('coursera-course-detail-data.csv')"
   ]
  },
  {
   "cell_type": "code",
   "execution_count": 14,
   "metadata": {},
   "outputs": [
    {
     "data": {
      "text/html": [
       "<div>\n",
       "<style scoped>\n",
       "    .dataframe tbody tr th:only-of-type {\n",
       "        vertical-align: middle;\n",
       "    }\n",
       "\n",
       "    .dataframe tbody tr th {\n",
       "        vertical-align: top;\n",
       "    }\n",
       "\n",
       "    .dataframe thead th {\n",
       "        text-align: right;\n",
       "    }\n",
       "</style>\n",
       "<table border=\"1\" class=\"dataframe\">\n",
       "  <thead>\n",
       "    <tr style=\"text-align: right;\">\n",
       "      <th></th>\n",
       "      <th>Unnamed: 0</th>\n",
       "      <th>Name</th>\n",
       "      <th>Url</th>\n",
       "      <th>Rating</th>\n",
       "      <th>Difficulty</th>\n",
       "      <th>Tags</th>\n",
       "    </tr>\n",
       "  </thead>\n",
       "  <tbody>\n",
       "    <tr>\n",
       "      <td>0</td>\n",
       "      <td>0</td>\n",
       "      <td>\"Making\" Progress Teach-Out</td>\n",
       "      <td>https://coursera.org/learn/makingprogress</td>\n",
       "      <td>None</td>\n",
       "      <td>Beginner Level</td>\n",
       "      <td>['Social Sciences', 'Governance and Society']</td>\n",
       "    </tr>\n",
       "    <tr>\n",
       "      <td>1</td>\n",
       "      <td>1</td>\n",
       "      <td>(Business Writing) الكتابة في مجال الأعمال</td>\n",
       "      <td>https://coursera.org/learn/writing-for-busines...</td>\n",
       "      <td>None</td>\n",
       "      <td>Beginner Level</td>\n",
       "      <td>['Business', 'Business Essentials']</td>\n",
       "    </tr>\n",
       "    <tr>\n",
       "      <td>2</td>\n",
       "      <td>2</td>\n",
       "      <td>(Giving Helpful Feedback) إعطاء الملاحظات المفيدة</td>\n",
       "      <td>https://coursera.org/learn/feedback-ar</td>\n",
       "      <td>4.8</td>\n",
       "      <td>None</td>\n",
       "      <td>['Business', 'Business Essentials']</td>\n",
       "    </tr>\n",
       "    <tr>\n",
       "      <td>3</td>\n",
       "      <td>3</td>\n",
       "      <td>(Successful Presentation) العرض التقديمي الناجح</td>\n",
       "      <td>https://coursera.org/learn/presentation-skills-ar</td>\n",
       "      <td>4.9</td>\n",
       "      <td>Beginner Level</td>\n",
       "      <td>['Business', 'Business Essentials']</td>\n",
       "    </tr>\n",
       "    <tr>\n",
       "      <td>4</td>\n",
       "      <td>4</td>\n",
       "      <td>.Net平台下的软件开发技术毕业项目</td>\n",
       "      <td>https://coursera.org/learn/net-ruanjian-kaifa-...</td>\n",
       "      <td>None</td>\n",
       "      <td>None</td>\n",
       "      <td>['Computer Science', 'Software Development']</td>\n",
       "    </tr>\n",
       "    <tr>\n",
       "      <td>...</td>\n",
       "      <td>...</td>\n",
       "      <td>...</td>\n",
       "      <td>...</td>\n",
       "      <td>...</td>\n",
       "      <td>...</td>\n",
       "      <td>...</td>\n",
       "    </tr>\n",
       "    <tr>\n",
       "      <td>3845</td>\n",
       "      <td>3845</td>\n",
       "      <td>None</td>\n",
       "      <td>https://coursera.org/learn/building-resilient-...</td>\n",
       "      <td>None</td>\n",
       "      <td>None</td>\n",
       "      <td>None</td>\n",
       "    </tr>\n",
       "    <tr>\n",
       "      <td>3846</td>\n",
       "      <td>3846</td>\n",
       "      <td>Drugs and the Brain</td>\n",
       "      <td>https://coursera.org/learn/drugs-and-brain</td>\n",
       "      <td>None</td>\n",
       "      <td>None</td>\n",
       "      <td>None</td>\n",
       "    </tr>\n",
       "    <tr>\n",
       "      <td>3847</td>\n",
       "      <td>3847</td>\n",
       "      <td>None</td>\n",
       "      <td>https://coursera.org/learn/serverless-machine-...</td>\n",
       "      <td>None</td>\n",
       "      <td>None</td>\n",
       "      <td>None</td>\n",
       "    </tr>\n",
       "    <tr>\n",
       "      <td>3848</td>\n",
       "      <td>3848</td>\n",
       "      <td>None</td>\n",
       "      <td>https://coursera.org/learn/serverless-data-ana...</td>\n",
       "      <td>None</td>\n",
       "      <td>None</td>\n",
       "      <td>None</td>\n",
       "    </tr>\n",
       "    <tr>\n",
       "      <td>3849</td>\n",
       "      <td>3849</td>\n",
       "      <td>None</td>\n",
       "      <td>https://coursera.org/learn/augmented-reality-v...</td>\n",
       "      <td>None</td>\n",
       "      <td>None</td>\n",
       "      <td>None</td>\n",
       "    </tr>\n",
       "  </tbody>\n",
       "</table>\n",
       "<p>3850 rows × 6 columns</p>\n",
       "</div>"
      ],
      "text/plain": [
       "      Unnamed: 0                                               Name  \\\n",
       "0              0                        \"Making\" Progress Teach-Out   \n",
       "1              1         (Business Writing) الكتابة في مجال الأعمال   \n",
       "2              2  (Giving Helpful Feedback) إعطاء الملاحظات المفيدة   \n",
       "3              3    (Successful Presentation) العرض التقديمي الناجح   \n",
       "4              4                                 .Net平台下的软件开发技术毕业项目   \n",
       "...          ...                                                ...   \n",
       "3845        3845                                               None   \n",
       "3846        3846                                Drugs and the Brain   \n",
       "3847        3847                                               None   \n",
       "3848        3848                                               None   \n",
       "3849        3849                                               None   \n",
       "\n",
       "                                                    Url Rating  \\\n",
       "0             https://coursera.org/learn/makingprogress   None   \n",
       "1     https://coursera.org/learn/writing-for-busines...   None   \n",
       "2                https://coursera.org/learn/feedback-ar    4.8   \n",
       "3     https://coursera.org/learn/presentation-skills-ar    4.9   \n",
       "4     https://coursera.org/learn/net-ruanjian-kaifa-...   None   \n",
       "...                                                 ...    ...   \n",
       "3845  https://coursera.org/learn/building-resilient-...   None   \n",
       "3846         https://coursera.org/learn/drugs-and-brain   None   \n",
       "3847  https://coursera.org/learn/serverless-machine-...   None   \n",
       "3848  https://coursera.org/learn/serverless-data-ana...   None   \n",
       "3849  https://coursera.org/learn/augmented-reality-v...   None   \n",
       "\n",
       "          Difficulty                                           Tags  \n",
       "0     Beginner Level  ['Social Sciences', 'Governance and Society']  \n",
       "1     Beginner Level            ['Business', 'Business Essentials']  \n",
       "2               None            ['Business', 'Business Essentials']  \n",
       "3     Beginner Level            ['Business', 'Business Essentials']  \n",
       "4               None   ['Computer Science', 'Software Development']  \n",
       "...              ...                                            ...  \n",
       "3845            None                                           None  \n",
       "3846            None                                           None  \n",
       "3847            None                                           None  \n",
       "3848            None                                           None  \n",
       "3849            None                                           None  \n",
       "\n",
       "[3850 rows x 6 columns]"
      ]
     },
     "execution_count": 14,
     "metadata": {},
     "output_type": "execute_result"
    }
   ],
   "source": [
    "dataset2"
   ]
  },
  {
   "cell_type": "code",
   "execution_count": 15,
   "metadata": {},
   "outputs": [],
   "source": [
    "x = dataset.iloc[: , : -1].values"
   ]
  },
  {
   "cell_type": "code",
   "execution_count": 16,
   "metadata": {},
   "outputs": [
    {
     "data": {
      "text/plain": [
       "array([[0,\n",
       "        '\"Espace mondial\" الرؤية الفرنسية للدراسات العالمية (Sciences Po)'],\n",
       "       [1, '\"Making\" Progress Teach-Out (Emory University)'],\n",
       "       [2,\n",
       "        '(Business Writing) الكتابة في مجال الأعمال (University of Colorado Boulder)'],\n",
       "       ...,\n",
       "       [3847, '口腔种植学 （Implant Dentistry） (The University of Hong Kong)'],\n",
       "       [3848, '史記 (Shi Ji) (National Taiwan University)'],\n",
       "       [3849, \"品读道家的智慧 (Xi'an Jiaotong University)\"]], dtype=object)"
      ]
     },
     "execution_count": 16,
     "metadata": {},
     "output_type": "execute_result"
    }
   ],
   "source": [
    "x"
   ]
  },
  {
   "cell_type": "code",
   "execution_count": 17,
   "metadata": {},
   "outputs": [],
   "source": [
    "y = dataset.iloc[: , : -1].values"
   ]
  },
  {
   "cell_type": "code",
   "execution_count": 18,
   "metadata": {},
   "outputs": [
    {
     "data": {
      "text/plain": [
       "array([[0,\n",
       "        '\"Espace mondial\" الرؤية الفرنسية للدراسات العالمية (Sciences Po)'],\n",
       "       [1, '\"Making\" Progress Teach-Out (Emory University)'],\n",
       "       [2,\n",
       "        '(Business Writing) الكتابة في مجال الأعمال (University of Colorado Boulder)'],\n",
       "       ...,\n",
       "       [3847, '口腔种植学 （Implant Dentistry） (The University of Hong Kong)'],\n",
       "       [3848, '史記 (Shi Ji) (National Taiwan University)'],\n",
       "       [3849, \"品读道家的智慧 (Xi'an Jiaotong University)\"]], dtype=object)"
      ]
     },
     "execution_count": 18,
     "metadata": {},
     "output_type": "execute_result"
    }
   ],
   "source": [
    "y"
   ]
  },
  {
   "cell_type": "code",
   "execution_count": 19,
   "metadata": {},
   "outputs": [],
   "source": [
    "from sklearn.preprocessing import LabelEncoder"
   ]
  },
  {
   "cell_type": "code",
   "execution_count": 20,
   "metadata": {},
   "outputs": [],
   "source": [
    "label_encoder = LabelEncoder()"
   ]
  },
  {
   "cell_type": "code",
   "execution_count": 21,
   "metadata": {},
   "outputs": [],
   "source": [
    "x[ : ,0] = label_encoder.fit_transform(x[ :, 0])"
   ]
  },
  {
   "cell_type": "code",
   "execution_count": 22,
   "metadata": {},
   "outputs": [
    {
     "data": {
      "text/plain": [
       "array([[0,\n",
       "        '\"Espace mondial\" الرؤية الفرنسية للدراسات العالمية (Sciences Po)'],\n",
       "       [1, '\"Making\" Progress Teach-Out (Emory University)'],\n",
       "       [2,\n",
       "        '(Business Writing) الكتابة في مجال الأعمال (University of Colorado Boulder)'],\n",
       "       ...,\n",
       "       [3847, '口腔种植学 （Implant Dentistry） (The University of Hong Kong)'],\n",
       "       [3848, '史記 (Shi Ji) (National Taiwan University)'],\n",
       "       [3849, \"品读道家的智慧 (Xi'an Jiaotong University)\"]], dtype=object)"
      ]
     },
     "execution_count": 22,
     "metadata": {},
     "output_type": "execute_result"
    }
   ],
   "source": [
    "x"
   ]
  },
  {
   "cell_type": "code",
   "execution_count": 1,
   "metadata": {},
   "outputs": [
    {
     "ename": "IndentationError",
     "evalue": "unexpected indent (<ipython-input-1-8b091372a70b>, line 2)",
     "output_type": "error",
     "traceback": [
      "\u001b[0;36m  File \u001b[0;32m\"<ipython-input-1-8b091372a70b>\"\u001b[0;36m, line \u001b[0;32m2\u001b[0m\n\u001b[0;31m    A = np.array([1,2,3,4,5,6])\u001b[0m\n\u001b[0m    ^\u001b[0m\n\u001b[0;31mIndentationError\u001b[0m\u001b[0;31m:\u001b[0m unexpected indent\n"
     ]
    }
   ],
   "source": [
    "import numpy as np\n",
    " A = np.array([1,2,3,4,5,6])\n",
    " B = vec2matrix(A,ncol=2)"
   ]
  },
  {
   "cell_type": "code",
   "execution_count": 2,
   "metadata": {},
   "outputs": [
    {
     "ename": "NameError",
     "evalue": "name 'a' is not defined",
     "output_type": "error",
     "traceback": [
      "\u001b[0;31m---------------------------------------------------------------------------\u001b[0m",
      "\u001b[0;31mNameError\u001b[0m                                 Traceback (most recent call last)",
      "\u001b[0;32m<ipython-input-2-c66ff0e44fff>\u001b[0m in \u001b[0;36m<module>\u001b[0;34m\u001b[0m\n\u001b[0;32m----> 1\u001b[0;31m \u001b[0ma\u001b[0m\u001b[0;34m.\u001b[0m\u001b[0mshape\u001b[0m \u001b[0;34m=\u001b[0m \u001b[0;34m(\u001b[0m\u001b[0ma\u001b[0m\u001b[0;34m.\u001b[0m\u001b[0msize\u001b[0m\u001b[0;34m//\u001b[0m\u001b[0mncols\u001b[0m\u001b[0;34m,\u001b[0m \u001b[0mncols\u001b[0m\u001b[0;34m)\u001b[0m\u001b[0;34m\u001b[0m\u001b[0;34m\u001b[0m\u001b[0m\n\u001b[0m",
      "\u001b[0;31mNameError\u001b[0m: name 'a' is not defined"
     ]
    }
   ],
   "source": [
    "a.shape = (a.size//ncols, ncols)"
   ]
  },
  {
   "cell_type": "code",
   "execution_count": 5,
   "metadata": {},
   "outputs": [
    {
     "name": "stdout",
     "output_type": "stream",
     "text": [
      "new values:   [[1, 2, 3], [4, 5, 6], [7, 8, 9]]\n"
     ]
    }
   ],
   "source": [
    "l = [i for i in range(1,10)]\n",
    "part = 3\n",
    "new = []\n",
    "start, end = 0, part\n",
    "\n",
    "\n",
    "while end <= len(l):\n",
    "    temp = []\n",
    "    for i in range(start, end):\n",
    "        temp.append(l[i])\n",
    "    new.append(temp)\n",
    "    start += part\n",
    "    end += part\n",
    "print(\"new values:  \", new)\n",
    "\n"
   ]
  },
  {
   "cell_type": "code",
   "execution_count": 10,
   "metadata": {},
   "outputs": [
    {
     "ename": "AttributeError",
     "evalue": "'list' object has no attribute 'ndim'",
     "output_type": "error",
     "traceback": [
      "\u001b[0;31m---------------------------------------------------------------------------\u001b[0m",
      "\u001b[0;31mAttributeError\u001b[0m                            Traceback (most recent call last)",
      "\u001b[0;32m<ipython-input-10-c2d28252b7f5>\u001b[0m in \u001b[0;36m<module>\u001b[0;34m\u001b[0m\n\u001b[0;32m----> 1\u001b[0;31m \u001b[0mnew\u001b[0m\u001b[0;34m.\u001b[0m\u001b[0mndim\u001b[0m\u001b[0;34m\u001b[0m\u001b[0;34m\u001b[0m\u001b[0m\n\u001b[0m",
      "\u001b[0;31mAttributeError\u001b[0m: 'list' object has no attribute 'ndim'"
     ]
    }
   ],
   "source": [
    "new.ndim\n"
   ]
  },
  {
   "cell_type": "code",
   "execution_count": null,
   "metadata": {},
   "outputs": [],
   "source": []
  }
 ],
 "metadata": {
  "kernelspec": {
   "display_name": "Python 3",
   "language": "python",
   "name": "python3"
  },
  "language_info": {
   "codemirror_mode": {
    "name": "ipython",
    "version": 3
   },
   "file_extension": ".py",
   "mimetype": "text/x-python",
   "name": "python",
   "nbconvert_exporter": "python",
   "pygments_lexer": "ipython3",
   "version": "3.7.4"
  }
 },
 "nbformat": 4,
 "nbformat_minor": 2
}
